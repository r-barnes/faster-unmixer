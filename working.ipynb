{
 "cells": [
  {
   "cell_type": "code",
   "execution_count": 3,
   "metadata": {},
   "outputs": [],
   "source": [
    "from dataclasses import dataclass\n",
    "import cvxpy as cp\n",
    "@dataclass\n",
    "class InverseNode:\n",
    "    \"\"\"A single node on an inversion grid.\n",
    "\n",
    "    Each `InverseNode` corresponds to a rectangle of pixels on the base raster\n",
    "    and is associated with a single sample site. The sample site which each\n",
    "    `InverseNode` is associated to is based on sub-catchment which the *centre*\n",
    "    of the rectangle lies in. For rectangles which overlap two catchments, there\n",
    "    may be some inaccuracies as each `InverseNode` can only be associated with\n",
    "    one sample site. As the resolution increases this inaccuracy decreases.\n",
    "\n",
    "    Args:\n",
    "        x (float): x-coordinate for centre of node\n",
    "        y (float): y-coordinate for centre of node\n",
    "\n",
    "    Attributes:\n",
    "        x (float): x-coordinate for centre of node\n",
    "        y (float): y-coordinate for centre of node\n",
    "        left_neighbour (InverseNode): Pointer to left-neighbouring InverseNode\n",
    "        top_neighbour (InverseNode): Pointer to vertically-above InverseNode\n",
    "    \"\"\"\n",
    "    x: float \n",
    "    y: float \n",
    "    concentration: cp.Variable = None \n",
    "    left_neighbour: InverseNode = None \n",
    "    top_neighbour: InverseNode = None\n",
    "    sample_num: str = None"
   ]
  }
 ],
 "metadata": {
  "kernelspec": {
   "display_name": "Python 3.10.6 ('working')",
   "language": "python",
   "name": "python3"
  },
  "language_info": {
   "codemirror_mode": {
    "name": "ipython",
    "version": 3
   },
   "file_extension": ".py",
   "mimetype": "text/x-python",
   "name": "python",
   "nbconvert_exporter": "python",
   "pygments_lexer": "ipython3",
   "version": "3.10.6"
  },
  "orig_nbformat": 4,
  "vscode": {
   "interpreter": {
    "hash": "224cc2e3a09f42f61347978732024c22db5718408364d877c62c4ee2e4a62d11"
   }
  }
 },
 "nbformat": 4,
 "nbformat_minor": 2
}
